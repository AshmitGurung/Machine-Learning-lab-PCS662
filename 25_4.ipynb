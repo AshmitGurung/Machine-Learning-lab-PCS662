{
  "nbformat": 4,
  "nbformat_minor": 0,
  "metadata": {
    "colab": {
      "provenance": [],
      "authorship_tag": "ABX9TyMOa2k0wIf9kxG9h117MqsB",
      "include_colab_link": true
    },
    "kernelspec": {
      "name": "python3",
      "display_name": "Python 3"
    },
    "language_info": {
      "name": "python"
    }
  },
  "cells": [
    {
      "cell_type": "markdown",
      "metadata": {
        "id": "view-in-github",
        "colab_type": "text"
      },
      "source": [
        "<a href=\"https://colab.research.google.com/github/AshmitGurung/Machine-Learning-lab-PCS662/blob/main/25_4.ipynb\" target=\"_parent\"><img src=\"https://colab.research.google.com/assets/colab-badge.svg\" alt=\"Open In Colab\"/></a>"
      ]
    },
    {
      "cell_type": "code",
      "source": [
        "from sklearn.feature_extraction.text import CountVectorizer\n",
        "from sklearn.naive_bayes import MultinomialNB\n",
        "from sklearn.metrics import accuracy_score\n",
        "from sklearn.model_selection import train_test_split\n",
        "texts = [\n",
        "    \"Free money now!!!\",\n",
        "    \"Reset your password immediately\",\n",
        "    \"Hi, how are you doing today?\",\n",
        "    \"Earn Rs.10000 by working from home\",\n",
        "    \"Earn money by playing aviator game\",\n",
        "    \"Limited time offer!!! Get rich quick\",\n",
        "    \"Lunch at 1 PM?\",\n",
        "    \"Meeting rescheduled to 3 PM\",\n",
        "    \"Call me when you're free\",\n",
        "    \"Congratulations! You've won a prize\",\n",
        "    \"Verify your account now to avoid suspension\",\n",
        "    \"Let's catch up tomorrow\",\n",
        "    \"Your OTP is 543210\",\n",
        "    \"Win an iPhone today!!!\",\n",
        "    \"Reminder: doctor appointment at 4 PM\",\n",
        "    \"Urgent: Your bank account is at risk\",\n",
        "    \"Are you coming to the party?\",\n",
        "    \"Don't miss this chance to earn money fast\",\n",
        "    \"What's the status of the project?\",\n",
        "    \"Make money fast by referring friends\"\n",
        "]\n",
        "labels = [\n",
        "    1, 0, 0, 1, 1,\n",
        "    1, 0, 0, 0, 1,\n",
        "    1, 0, 0, 1, 0,\n",
        "    1, 0, 1, 0, 1\n",
        "]\n",
        "\n",
        "X_train, X_test, y_train, y_test = train_test_split(texts, labels, test_size=0.2, random_state=42)\n",
        "vectorizer = CountVectorizer()\n",
        "X_train_vec = vectorizer.fit_transform(X_train)\n",
        "X_test_vec = vectorizer.transform(X_test)\n",
        "model = MultinomialNB()\n",
        "model.fit(X_train_vec, y_train)\n",
        "\n",
        "y_pred = model.predict(X_test_vec)\n",
        "print(\"Accuracy:\", accuracy_score(y_test, y_pred))\n",
        "text1 = [\"Send me the file\"]\n",
        "text1_vec = vectorizer.transform(text1)\n",
        "pred = model.predict(text1_vec)\n",
        "if pred[0] == 1:\n",
        "    print(\"This message is likely SPAM.\")\n",
        "else:\n",
        "    print(\"This message is NOT spam.\")"
      ],
      "metadata": {
        "colab": {
          "base_uri": "https://localhost:8080/"
        },
        "id": "iR4ySIJCb7xk",
        "outputId": "a151cfeb-bd0e-42c8-8b4b-59219790b54d"
      },
      "execution_count": 13,
      "outputs": [
        {
          "output_type": "stream",
          "name": "stdout",
          "text": [
            "Accuracy: 0.75\n",
            "This message is NOT spam.\n"
          ]
        }
      ]
    }
  ]
}