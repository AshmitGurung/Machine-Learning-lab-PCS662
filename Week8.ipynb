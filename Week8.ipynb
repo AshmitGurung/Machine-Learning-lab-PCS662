{
  "nbformat": 4,
  "nbformat_minor": 0,
  "metadata": {
    "colab": {
      "provenance": [],
      "authorship_tag": "ABX9TyPIhZhmIWpJ0KlaW6Q8+HOF",
      "include_colab_link": true
    },
    "kernelspec": {
      "name": "python3",
      "display_name": "Python 3"
    },
    "language_info": {
      "name": "python"
    }
  },
  "cells": [
    {
      "cell_type": "markdown",
      "metadata": {
        "id": "view-in-github",
        "colab_type": "text"
      },
      "source": [
        "<a href=\"https://colab.research.google.com/github/AshmitGurung/Machine-Learning-lab-PCS662/blob/main/Week8.ipynb\" target=\"_parent\"><img src=\"https://colab.research.google.com/assets/colab-badge.svg\" alt=\"Open In Colab\"/></a>"
      ]
    },
    {
      "cell_type": "code",
      "execution_count": 1,
      "metadata": {
        "id": "X3iPc-XFYLCm",
        "colab": {
          "base_uri": "https://localhost:8080/"
        },
        "outputId": "5ab76a1a-86e9-4fd4-f02c-14c3a598ff89"
      },
      "outputs": [
        {
          "output_type": "stream",
          "name": "stdout",
          "text": [
            "Predicted labels: [2 0 1]\n",
            "True labels     : [2 0 1]\n",
            "\n",
            "Classification Report:\n",
            "              precision    recall  f1-score   support\n",
            "\n",
            "           0       1.00      1.00      1.00         1\n",
            "           1       1.00      1.00      1.00         1\n",
            "           2       1.00      1.00      1.00         1\n",
            "\n",
            "    accuracy                           1.00         3\n",
            "   macro avg       1.00      1.00      1.00         3\n",
            "weighted avg       1.00      1.00      1.00         3\n",
            "\n",
            "Accuracy: 1.0\n",
            "\n",
            "Query prediction for [2 2] is label: 0\n"
          ]
        }
      ],
      "source": [
        "from sklearn.neighbors import KNeighborsClassifier\n",
        "from sklearn.model_selection import train_test_split\n",
        "from sklearn.metrics import classification_report, accuracy_score\n",
        "import numpy as np\n",
        "\n",
        "\n",
        "X = np.array([\n",
        "    [1, 2], [2, 3], [3, 3],\n",
        "    [6, 5], [7, 7], [8, 6],\n",
        "    [0, 6], [1, 7], [2, 8]\n",
        "])\n",
        "y = np.array([0, 0, 0, 1, 1, 1, 2, 2, 2])\n",
        "\n",
        "\n",
        "X_train, X_test, y_train, y_test = train_test_split(X, y, test_size=0.3, random_state=42)\n",
        "\n",
        "\n",
        "k = 3\n",
        "knn = KNeighborsClassifier(n_neighbors=k)\n",
        "knn.fit(X_train, y_train)\n",
        "\n",
        "\n",
        "y_pred = knn.predict(X_test)\n",
        "\n",
        "\n",
        "print(\"Predicted labels:\", y_pred)\n",
        "print(\"True labels     :\", y_test)\n",
        "print(\"\\nClassification Report:\")\n",
        "print(classification_report(y_test, y_pred))\n",
        "print(\"Accuracy:\", accuracy_score(y_test, y_pred))\n",
        "\n",
        "\n",
        "query = np.array([[2, 2]])\n",
        "query_pred = knn.predict(query)\n",
        "print(\"\\nQuery prediction for\", query[0], \"is label:\", query_pred[0])"
      ]
    }
  ]
}